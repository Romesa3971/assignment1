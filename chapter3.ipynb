{
  "nbformat": 4,
  "nbformat_minor": 0,
  "metadata": {
    "colab": {
      "provenance": [],
      "authorship_tag": "ABX9TyNveA4cRvNShrNEHs6f9rKC",
      "include_colab_link": true
    },
    "kernelspec": {
      "name": "python3",
      "display_name": "Python 3"
    },
    "language_info": {
      "name": "python"
    }
  },
  "cells": [
    {
      "cell_type": "markdown",
      "metadata": {
        "id": "view-in-github",
        "colab_type": "text"
      },
      "source": [
        "<a href=\"https://colab.research.google.com/github/Romesa3971/assignment1/blob/main/chapter3.ipynb\" target=\"_parent\"><img src=\"https://colab.research.google.com/assets/colab-badge.svg\" alt=\"Open In Colab\"/></a>"
      ]
    },
    {
      "cell_type": "code",
      "source": [
        "hrs=input('Enter a number: ')\n",
        "h=float(hrs)\n",
        "rate=input('Enter the rate: ')\n",
        "r=float(rate)\n",
        "if h <= 40:\n",
        "  pay = float(h*r)\n",
        "  print(pay)\n",
        "elif h > 40:\n",
        "  pay = float(h*r+(h-40)*1.5*r)\n",
        "  print(pay)"
      ],
      "metadata": {
        "colab": {
          "base_uri": "https://localhost:8080/"
        },
        "id": "pyqah0Xgdc_v",
        "outputId": "d78e7375-f906-4ce6-dec3-0675400069e2"
      },
      "execution_count": 4,
      "outputs": [
        {
          "output_type": "stream",
          "name": "stdout",
          "text": [
            "Enter a number: 40\n",
            "Enter the rate: 10\n",
            "400.0\n"
          ]
        }
      ]
    }
  ]
}