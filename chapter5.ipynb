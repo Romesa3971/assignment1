{
  "nbformat": 4,
  "nbformat_minor": 0,
  "metadata": {
    "colab": {
      "provenance": [],
      "authorship_tag": "ABX9TyN8BW35EIMoW0YaR6SfG5rD",
      "include_colab_link": true
    },
    "kernelspec": {
      "name": "python3",
      "display_name": "Python 3"
    },
    "language_info": {
      "name": "python"
    }
  },
  "cells": [
    {
      "cell_type": "markdown",
      "metadata": {
        "id": "view-in-github",
        "colab_type": "text"
      },
      "source": [
        "<a href=\"https://colab.research.google.com/github/Romesa3971/assignment1/blob/main/chapter5.ipynb\" target=\"_parent\"><img src=\"https://colab.research.google.com/assets/colab-badge.svg\" alt=\"Open In Colab\"/></a>"
      ]
    },
    {
      "cell_type": "code",
      "source": [
        "smallest_so_far = -1\n",
        "print('Before', smallest_so_far)\n",
        "for the_num in [9, 41, 12, 3, 74, 15] :\n",
        "  if the_num < smallest_so_far :\n",
        "    smallest_so_far = the_num\n",
        "  print(smallest_so_far, the_num)\n",
        "print('After', smallest_so_far)"
      ],
      "metadata": {
        "colab": {
          "base_uri": "https://localhost:8080/"
        },
        "id": "pyqah0Xgdc_v",
        "outputId": "ea745239-5547-44cf-8a5a-7ae18d9bac23"
      },
      "execution_count": 6,
      "outputs": [
        {
          "output_type": "stream",
          "name": "stdout",
          "text": [
            "Before -1\n",
            "-1 9\n",
            "-1 41\n",
            "-1 12\n",
            "-1 3\n",
            "-1 74\n",
            "-1 15\n",
            "After -1\n"
          ]
        }
      ]
    }
  ]
}