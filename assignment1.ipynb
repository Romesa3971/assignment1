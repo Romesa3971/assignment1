{
  "nbformat": 4,
  "nbformat_minor": 0,
  "metadata": {
    "colab": {
      "provenance": [],
      "authorship_tag": "ABX9TyO9utCt7sYGPssdnDYi96rU",
      "include_colab_link": true
    },
    "kernelspec": {
      "name": "python3",
      "display_name": "Python 3"
    },
    "language_info": {
      "name": "python"
    }
  },
  "cells": [
    {
      "cell_type": "markdown",
      "metadata": {
        "id": "view-in-github",
        "colab_type": "text"
      },
      "source": [
        "<a href=\"https://colab.research.google.com/github/Romesa3971/assignment1/blob/main/assignment1.ipynb\" target=\"_parent\"><img src=\"https://colab.research.google.com/assets/colab-badge.svg\" alt=\"Open In Colab\"/></a>"
      ]
    },
    {
      "cell_type": "code",
      "execution_count": 3,
      "metadata": {
        "colab": {
          "base_uri": "https://localhost:8080/"
        },
        "id": "9Jc7Pbnbqg4e",
        "outputId": "45abc665-bd72-4f34-d9f4-a7c94eca9747"
      },
      "outputs": [
        {
          "output_type": "stream",
          "name": "stdout",
          "text": [
            "Enter Hour:35\n",
            "Eenter Rate per Hour:2.75\n",
            "Pay: 96.25\n"
          ]
        }
      ],
      "source": [
        "hrs=input(\"Enter Hour:\")\n",
        "rate=input(\"Eenter Rate per Hour:\")\n",
        "pay=float(hrs)*float(rate)\n",
        "\n",
        "print(\"Pay:\", pay)"
      ]
    }
  ]
}