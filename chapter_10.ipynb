{
  "nbformat": 4,
  "nbformat_minor": 0,
  "metadata": {
    "colab": {
      "provenance": [],
      "authorship_tag": "ABX9TyNVmevmqTPNfXkZiZ8tAE34",
      "include_colab_link": true
    },
    "kernelspec": {
      "name": "python3",
      "display_name": "Python 3"
    },
    "language_info": {
      "name": "python"
    }
  },
  "cells": [
    {
      "cell_type": "markdown",
      "metadata": {
        "id": "view-in-github",
        "colab_type": "text"
      },
      "source": [
        "<a href=\"https://colab.research.google.com/github/Romesa3971/assignment1/blob/main/chapter_10.ipynb\" target=\"_parent\"><img src=\"https://colab.research.google.com/assets/colab-badge.svg\" alt=\"Open In Colab\"/></a>"
      ]
    },
    {
      "cell_type": "code",
      "source": [
        "(x,y)=(4, 'fred')\n",
        "print(x)"
      ],
      "metadata": {
        "colab": {
          "base_uri": "https://localhost:8080/"
        },
        "id": "XOBD81Z50nfB",
        "outputId": "56128519-a971-42aa-e172-5b82da5d6ce8"
      },
      "execution_count": 7,
      "outputs": [
        {
          "output_type": "stream",
          "name": "stdout",
          "text": [
            "4\n"
          ]
        }
      ]
    },
    {
      "cell_type": "code",
      "source": [
        "d=dict()\n",
        "d['sven']=2\n",
        "d['swen']=4\n",
        "for (k,v) in d.items():\n",
        "  print(k,v)\n",
        "tups=d.items()\n",
        "print(tups)"
      ],
      "metadata": {
        "id": "_NlaFGkV3Cr7",
        "outputId": "62b2bf27-7b85-4c49-94bd-3270a5e551f2",
        "colab": {
          "base_uri": "https://localhost:8080/"
        }
      },
      "execution_count": 10,
      "outputs": [
        {
          "output_type": "stream",
          "name": "stdout",
          "text": [
            "sven 2\n",
            "swen 4\n",
            "dict_items([('sven', 2), ('swen', 4)])\n"
          ]
        }
      ]
    },
    {
      "cell_type": "code",
      "source": [
        "d={'a':10, 'b':12, 'c':11}\n",
        "d.items()\n",
        "sorted(d.items())\n"
      ],
      "metadata": {
        "id": "9QCVXZKg4VQf",
        "outputId": "97d58a8a-47a6-402f-d922-ec747b981465",
        "colab": {
          "base_uri": "https://localhost:8080/"
        }
      },
      "execution_count": 12,
      "outputs": [
        {
          "output_type": "execute_result",
          "data": {
            "text/plain": [
              "[('a', 10), ('b', 12), ('c', 11)]"
            ]
          },
          "metadata": {},
          "execution_count": 12
        }
      ]
    }
  ]
}