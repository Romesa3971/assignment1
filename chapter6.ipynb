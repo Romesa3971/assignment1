{
  "nbformat": 4,
  "nbformat_minor": 0,
  "metadata": {
    "colab": {
      "provenance": [],
      "authorship_tag": "ABX9TyPPH6Yn2t9rm3ATG0WGLx6T",
      "include_colab_link": true
    },
    "kernelspec": {
      "name": "python3",
      "display_name": "Python 3"
    },
    "language_info": {
      "name": "python"
    }
  },
  "cells": [
    {
      "cell_type": "markdown",
      "metadata": {
        "id": "view-in-github",
        "colab_type": "text"
      },
      "source": [
        "<a href=\"https://colab.research.google.com/github/Romesa3971/assignment1/blob/main/chapter6.ipynb\" target=\"_parent\"><img src=\"https://colab.research.google.com/assets/colab-badge.svg\" alt=\"Open In Colab\"/></a>"
      ]
    },
    {
      "cell_type": "code",
      "source": [
        "word='banana'\n",
        "if word == 'banana':\n",
        "    print('All right, bananas.')\n",
        "\n",
        "if word < 'banana':\n",
        "    print('Your word,' + word + ', comes before banana.')\n",
        "elif word > 'banana':\n",
        "    print('Your word,' + word + ', comes after banana.')\n",
        "else:\n",
        "    print('All right, bananas.')"
      ],
      "metadata": {
        "colab": {
          "base_uri": "https://localhost:8080/"
        },
        "id": "pyqah0Xgdc_v",
        "outputId": "55fc4616-b5f3-433c-d0b3-33fb8bd87c81"
      },
      "execution_count": 7,
      "outputs": [
        {
          "output_type": "stream",
          "name": "stdout",
          "text": [
            "All right, bananas.\n",
            "All right, bananas.\n"
          ]
        }
      ]
    }
  ]
}