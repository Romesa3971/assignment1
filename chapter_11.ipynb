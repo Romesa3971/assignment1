{
  "nbformat": 4,
  "nbformat_minor": 0,
  "metadata": {
    "colab": {
      "provenance": [],
      "authorship_tag": "ABX9TyPTYCuS7iKFj87vWre/vh8s",
      "include_colab_link": true
    },
    "kernelspec": {
      "name": "python3",
      "display_name": "Python 3"
    },
    "language_info": {
      "name": "python"
    }
  },
  "cells": [
    {
      "cell_type": "markdown",
      "metadata": {
        "id": "view-in-github",
        "colab_type": "text"
      },
      "source": [
        "<a href=\"https://colab.research.google.com/github/Romesa3971/assignment1/blob/main/chapter_11.ipynb\" target=\"_parent\"><img src=\"https://colab.research.google.com/assets/colab-badge.svg\" alt=\"Open In Colab\"/></a>"
      ]
    },
    {
      "cell_type": "code",
      "execution_count": 2,
      "metadata": {
        "colab": {
          "base_uri": "https://localhost:8080/"
        },
        "id": "tNWi1WyhrACs",
        "outputId": "8f376ff9-2b6b-44af-c749-bd43195e25f5"
      },
      "outputs": [
        {
          "output_type": "stream",
          "name": "stdout",
          "text": [
            "red\n",
            "soft\n",
            "SOFT\n"
          ]
        }
      ],
      "source": [
        "class Apple:\n",
        "  color=''\n",
        "  flavor=''\n",
        "jonagold=Apple()\n",
        "jonagold.color='red'\n",
        "jonagold.flavor='soft'\n",
        "print(jonagold.color)\n",
        "print(jonagold.flavor)\n",
        "print(jonagold.flavor.upper())"
      ]
    },
    {
      "cell_type": "code",
      "source": [
        "class Flower:\n",
        "  color='unknown'\n",
        "rose=Flower()\n",
        "rose.color='red'\n",
        "voliet=Flower()\n",
        "voliet.color='blue'\n",
        "this_pun_is_for_you='i am glad you got it!'\n",
        "print('roses are {},' .format(rose.color))\n",
        "print('voiletes are {},' .format(voliet.color))\n",
        "print(this_pun_is_for_you)"
      ],
      "metadata": {
        "colab": {
          "base_uri": "https://localhost:8080/"
        },
        "id": "6lZaxzGbrxb1",
        "outputId": "9fb65201-cab3-41c0-94a6-526c806d62e1"
      },
      "execution_count": 3,
      "outputs": [
        {
          "output_type": "stream",
          "name": "stdout",
          "text": [
            "roses are red,\n",
            "voiletes are blue,\n",
            "i am glad you got it!\n"
          ]
        }
      ]
    },
    {
      "cell_type": "code",
      "source": [
        "class cat:\n",
        "  name=''\n",
        "  def speak(self):\n",
        "    print('Meow! i am {}! Meow' .format(self.name))\n",
        "myluna=cat()\n",
        "myluna.name='luna'\n",
        "myluna.speak()\n",
        "mybella=cat()\n",
        "mybella.name='bella'\n",
        "mybella.speak()"
      ],
      "metadata": {
        "colab": {
          "base_uri": "https://localhost:8080/"
        },
        "id": "oTS5d1VxtVIq",
        "outputId": "e0b2f53c-f5aa-471a-fbc1-db74c0afe036"
      },
      "execution_count": 5,
      "outputs": [
        {
          "output_type": "stream",
          "name": "stdout",
          "text": [
            "Meow! i am luna! Meow\n",
            "Meow! i am bella! Meow\n"
          ]
        }
      ]
    }
  ]
}