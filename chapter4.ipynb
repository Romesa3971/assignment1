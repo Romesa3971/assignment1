{
  "nbformat": 4,
  "nbformat_minor": 0,
  "metadata": {
    "colab": {
      "provenance": [],
      "authorship_tag": "ABX9TyPBzH8K+Rs+E4jDhYm0Mntg",
      "include_colab_link": true
    },
    "kernelspec": {
      "name": "python3",
      "display_name": "Python 3"
    },
    "language_info": {
      "name": "python"
    }
  },
  "cells": [
    {
      "cell_type": "markdown",
      "metadata": {
        "id": "view-in-github",
        "colab_type": "text"
      },
      "source": [
        "<a href=\"https://colab.research.google.com/github/Romesa3971/assignment1/blob/main/chapter4.ipynb\" target=\"_parent\"><img src=\"https://colab.research.google.com/assets/colab-badge.svg\" alt=\"Open In Colab\"/></a>"
      ]
    },
    {
      "cell_type": "code",
      "source": [
        "hour = float(input('Enter the hours: '))\n",
        "rate = float(input('Enter the rate: '))\n",
        "def compute_pay(hour, rate):\n",
        "  if hour <= 45:\n",
        "    pay=hour*rate\n",
        "    return(pay)\n",
        "  elif hour > 45:\n",
        "    pay=(((hours * rate) - 40 * rate) * 1.5 + 40 * rate)\n",
        "    return(pay)\n",
        "pay= compute_pay(hour, rate)\n",
        "print(pay)"
      ],
      "metadata": {
        "colab": {
          "base_uri": "https://localhost:8080/"
        },
        "id": "pyqah0Xgdc_v",
        "outputId": "b2fa9222-2ee0-4de5-9336-ed1d8bc65446"
      },
      "execution_count": 5,
      "outputs": [
        {
          "output_type": "stream",
          "name": "stdout",
          "text": [
            "Enter the hours: 45\n",
            "Enter the rate: 10\n",
            "450.0\n"
          ]
        }
      ]
    }
  ]
}