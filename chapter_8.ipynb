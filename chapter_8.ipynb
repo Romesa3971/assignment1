{
  "nbformat": 4,
  "nbformat_minor": 0,
  "metadata": {
    "colab": {
      "provenance": [],
      "authorship_tag": "ABX9TyPm71Ic8vbQ7JwqET7UIgZS",
      "include_colab_link": true
    },
    "kernelspec": {
      "name": "python3",
      "display_name": "Python 3"
    },
    "language_info": {
      "name": "python"
    }
  },
  "cells": [
    {
      "cell_type": "markdown",
      "metadata": {
        "id": "view-in-github",
        "colab_type": "text"
      },
      "source": [
        "<a href=\"https://colab.research.google.com/github/Romesa3971/assignment1/blob/main/chapter_8.ipynb\" target=\"_parent\"><img src=\"https://colab.research.google.com/assets/colab-badge.svg\" alt=\"Open In Colab\"/></a>"
      ]
    },
    {
      "cell_type": "code",
      "source": [
        "friends=['josheph', 'glenn', 'alley']\n",
        "for friend in friends:\n",
        "  print(\"happy new year: \", friend)\n",
        "for i in range(len(friends)):\n",
        "  friend=friends[i]\n",
        "  print('happy new year', friend)"
      ],
      "metadata": {
        "colab": {
          "base_uri": "https://localhost:8080/"
        },
        "id": "XOBD81Z50nfB",
        "outputId": "09870d7a-3e9f-4e8e-dc01-bce57ed85dbf"
      },
      "execution_count": 4,
      "outputs": [
        {
          "output_type": "stream",
          "name": "stdout",
          "text": [
            "happy new year:  josheph\n",
            "happy new year:  glenn\n",
            "happy new year:  alley\n",
            "happy new year josheph\n",
            "happy new year glenn\n",
            "happy new year alley\n"
          ]
        }
      ]
    }
  ]
}