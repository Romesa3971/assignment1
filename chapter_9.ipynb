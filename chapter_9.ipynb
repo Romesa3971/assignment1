{
  "nbformat": 4,
  "nbformat_minor": 0,
  "metadata": {
    "colab": {
      "provenance": [],
      "authorship_tag": "ABX9TyO/CdHj+u8rq9ntR8z/HDjY",
      "include_colab_link": true
    },
    "kernelspec": {
      "name": "python3",
      "display_name": "Python 3"
    },
    "language_info": {
      "name": "python"
    }
  },
  "cells": [
    {
      "cell_type": "markdown",
      "metadata": {
        "id": "view-in-github",
        "colab_type": "text"
      },
      "source": [
        "<a href=\"https://colab.research.google.com/github/Romesa3971/assignment1/blob/main/chapter_9.ipynb\" target=\"_parent\"><img src=\"https://colab.research.google.com/assets/colab-badge.svg\" alt=\"Open In Colab\"/></a>"
      ]
    },
    {
      "cell_type": "code",
      "source": [
        "ccc=dict()\n",
        "ccc['csven']=1\n",
        "ccc['cswen']=1\n",
        "print(ccc)\n",
        "ccc['csven']=ccc['csven']+1\n",
        "print(ccc)"
      ],
      "metadata": {
        "colab": {
          "base_uri": "https://localhost:8080/"
        },
        "id": "XOBD81Z50nfB",
        "outputId": "3fb1e799-1c8a-4f6a-f314-294be200b9ed"
      },
      "execution_count": 6,
      "outputs": [
        {
          "output_type": "stream",
          "name": "stdout",
          "text": [
            "{'csven': 1, 'cswen': 1}\n",
            "{'csven': 2, 'cswen': 1}\n"
          ]
        }
      ]
    }
  ]
}